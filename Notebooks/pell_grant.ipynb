{
 "cells": [
  {
   "cell_type": "code",
   "execution_count": 2,
   "metadata": {},
   "outputs": [],
   "source": [
    "import os\n",
    "import glob\n",
    "import time\n",
    "import pandas as pd\n",
    "import numpy as np\n",
    "\n",
    "directory = \"Raw_Data\\Pell Grant\"\n",
    "files = glob.glob(os.path.join(directory, \"*.xls\"))\n",
    "files = sorted(files, key=lambda x: os.path.getmtime(x))\n",
    "year = 1999\n",
    "year2 = 2000\n",
    "\n",
    "for filename in files:\n",
    "    new_name = f\"AY{year:04d}-{year2:04d}Pell.xls\"\n",
    "    \n",
    "    old_path = filename\n",
    "    new_path = os.path.join(directory, new_name)\n",
    "    \n",
    "    if os.path.exists(new_path):\n",
    "        print(f\"Target file '{new_name}' already exists. Skipping renaming.\")\n",
    "    else:\n",
    "        os.rename(old_path, new_path)\n",
    "        print(f\"Renamed {filename} to {new_name}\")\n",
    "    \n",
    "    year += 1\n",
    "    year2 += 1"
   ]
  },
  {
   "cell_type": "code",
   "execution_count": null,
   "metadata": {},
   "outputs": [],
   "source": [
    "years2 = []\n",
    "years = []\n",
    "dataframes = []\n",
    "\n",
    "for i in range(1999,2006):\n",
    "    years.append(str(i))\n",
    "\n",
    "for z in range(2000,2007):\n",
    "    years2.append(str(z))\n",
    "\n",
    "for w,x in zip(years , years2):\n",
    "\n",
    "    filename = f'../Raw_Data/pell_grant/AY{w}-{x}Pell.xls'\n",
    "\n",
    "    try:\n",
    "        index = 3\n",
    "        df = pd.ExcelFile(filename)\n",
    "        df1= pd.read_excel(df,'pell grant',skiprows=5,usecols='A:F')\n",
    "        df1['Year'] = w\n",
    "        df1.insert(index, column='Zip Code', value=None)\n",
    "        dataframes.append(df1)\n",
    "        print(f\"{filename} has appended successfuly\")\n",
    "        \n",
    "    except:\n",
    "        \n",
    "        print(f\"{filename} did not append\")\n",
    "\n",
    "base = pd.concat(dataframes)\n",
    "base = base.rename(columns={'Recipients' : 'YTD Recipients', 'Total Disbursed': 'YTD Disbursements' })"
   ]
  },
  {
   "cell_type": "code",
   "execution_count": null,
   "metadata": {},
   "outputs": [],
   "source": [
    "base"
   ]
  },
  {
   "cell_type": "code",
   "execution_count": null,
   "metadata": {},
   "outputs": [],
   "source": [
    "years2 = []\n",
    "years = []\n",
    "dataframes2 = []\n",
    "\n",
    "for i in range(2006,2009):\n",
    "    years.append(str(i))\n",
    "\n",
    "for z in range(2007,2010):\n",
    "    years2.append(str(z))\n",
    "\n",
    "for w,x in zip(years , years2):\n",
    "\n",
    "    filename = f'../Raw_Data/pell_grant/AY{w}-{x}Pell.xls'\n",
    "\n",
    "    try:\n",
    "\n",
    "        df1 = pd.ExcelFile(filename)\n",
    "        df2= pd.read_excel(df1,'pell grant',skiprows=4, usecols='A:G')\n",
    "        df2['Year'] = w\n",
    "        df2 = df2.iloc[:-1]\n",
    "        dataframes2.append(df2)\n",
    "        print(f\"{filename} has appended successfuly\")\n",
    "        \n",
    "    except:\n",
    "        \n",
    "        print(f\"{filename} did not append\")\n",
    "\n",
    "base2 = pd.concat(dataframes2)\n",
    "base2 = base2.drop('YTD Recipients',axis=1)"
   ]
  },
  {
   "cell_type": "code",
   "execution_count": null,
   "metadata": {},
   "outputs": [],
   "source": [
    "base2"
   ]
  },
  {
   "cell_type": "code",
   "execution_count": null,
   "metadata": {},
   "outputs": [],
   "source": [
    "years2 = []\n",
    "years = []\n",
    "dataframes3 = []\n",
    "\n",
    "for i in range(2009,2017):\n",
    "    years.append(str(i))\n",
    "\n",
    "for z in range(2010,2018):\n",
    "    years2.append(str(z))\n",
    "\n",
    "for w,x in zip(years , years2):\n",
    "\n",
    "    filename = f'../Raw_Data/pell_grant/AY{w}-{x}Pell.xls'\n",
    "\n",
    "    try:\n",
    "        \n",
    "        df2 = pd.ExcelFile(filename)\n",
    "        df3= pd.read_excel(df2,'Award Year Summary',skiprows=5, usecols='A:G')\n",
    "        df3['Year'] = w\n",
    "        dataframes3.append(df3)\n",
    "        print(f\"{filename} has appended successfuly\")\n",
    "        \n",
    "    except:\n",
    "        \n",
    "        print(f\"{filename} did not append\")\n",
    "\n",
    "base3 = pd.concat(dataframes3)\n"
   ]
  },
  {
   "cell_type": "code",
   "execution_count": null,
   "metadata": {},
   "outputs": [],
   "source": [
    "base3"
   ]
  },
  {
   "cell_type": "code",
   "execution_count": null,
   "metadata": {},
   "outputs": [],
   "source": [
    "years2 = []\n",
    "years = []\n",
    "dataframes4 = []\n",
    "\n",
    "for i in range(2017,2022):\n",
    "    years.append(str(i))\n",
    "\n",
    "for z in range(2018,2023):\n",
    "    years2.append(str(z))\n",
    "\n",
    "for w,x in zip(years , years2):\n",
    "\n",
    "    filename = f'../Raw_Data/pell_grant/AY{w}-{x}Pell.xls'\n",
    "\n",
    "    try:\n",
    "        \n",
    "        df3 = pd.ExcelFile(filename)\n",
    "        df4= pd.read_excel(df3,'Award Year Summary',skiprows=6, usecols='A:G')\n",
    "        df4['Year'] = w\n",
    "        dataframes4.append(df4)  \n",
    "        print(f\"{filename} has appended successfuly\")\n",
    "        \n",
    "    except:\n",
    "        \n",
    "        print(f\"{filename} did not append\")\n",
    "\n",
    "base4 = pd.concat(dataframes4)"
   ]
  },
  {
   "cell_type": "code",
   "execution_count": null,
   "metadata": {},
   "outputs": [],
   "source": [
    "base4"
   ]
  },
  {
   "cell_type": "code",
   "execution_count": 11,
   "metadata": {},
   "outputs": [],
   "source": [
    "frames = [base,base2,base3,base4]\n",
    "pell_grant_df = pd.concat(frames)\n",
    "pell_grant_df = pell_grant_df.drop(pell_grant_df.columns[8], axis=1)\n",
    "pell_grant_df['Zip Code'] = pell_grant_df['Zip Code'].astype(str)\n",
    "pell_grant_df['Zip Code'] = pell_grant_df['Zip Code'].str.replace(r'\\D', '', regex=True)\n",
    "pell_grant_df['Zip Code'] = pell_grant_df['Zip Code'].str.slice(0,5)\n",
    "\n",
    "# pell_grant_df['YTD Disbursements'] = pell_grant_df['YTD Disbursements'].str.replace(r'\\D','0', regex=True)\n",
    "# pell_grant_df['YTD Disbursements'] = pell_grant_df['YTD Disbursements'].astype(float)\n",
    "# pell_grant_df['YTD Recipients'] = pell_grant_df['YTD Recipients'].str.replace(r'\\D','0', regex=True)\n",
    "# pell_grant_df['YTD Recipients'] = pell_grant_df['YTD Recipients'].astype(int)\n",
    "pell_grant_df.to_csv('../Datasets/pell_grant_dataset.csv')"
   ]
  }
 ],
 "metadata": {
  "kernelspec": {
   "display_name": "myenviorment",
   "language": "python",
   "name": "python3"
  },
  "language_info": {
   "codemirror_mode": {
    "name": "ipython",
    "version": 3
   },
   "file_extension": ".py",
   "mimetype": "text/x-python",
   "name": "python",
   "nbconvert_exporter": "python",
   "pygments_lexer": "ipython3",
   "version": "3.11.2"
  },
  "orig_nbformat": 4
 },
 "nbformat": 4,
 "nbformat_minor": 2
}
